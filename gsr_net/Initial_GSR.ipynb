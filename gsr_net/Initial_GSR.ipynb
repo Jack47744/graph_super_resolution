{
 "cells": [
  {
   "cell_type": "code",
   "execution_count": 1,
   "metadata": {},
   "outputs": [],
   "source": [
    "import os\n",
    "os.environ['PYTORCH_ENABLE_MPS_FALLBACK'] = '1'\n",
    "\n",
    "import pandas as pd\n",
    "from MatrixVectorizer import *\n",
    "import torch\n",
    "import random\n",
    "from sklearn.decomposition import PCA\n",
    "from sklearn.mixture import GaussianMixture\n",
    "from sklearn.model_selection import train_test_split\n",
    "import optuna\n",
    "import seaborn as sns"
   ]
  },
  {
   "cell_type": "code",
   "execution_count": 2,
   "metadata": {},
   "outputs": [
    {
     "name": "stdout",
     "output_type": "stream",
     "text": [
      "CUDA is available. Using GPU.\n",
      "cuda\n"
     ]
    }
   ],
   "source": [
    "random_seed = 42\n",
    "random.seed(random_seed)\n",
    "np.random.seed(random_seed)\n",
    "torch.manual_seed(random_seed)\n",
    "\n",
    "# Check for CUDA (GPU support) and set device accordingly\n",
    "if torch.cuda.is_available():\n",
    "    device = torch.device(\"cuda\")\n",
    "    print(\"CUDA is available. Using GPU.\")\n",
    "    torch.cuda.manual_seed(random_seed)\n",
    "    torch.cuda.manual_seed_all(random_seed)  # For multi-GPU setups\n",
    "    # Additional settings for ensuring reproducibility on CUDA\n",
    "    torch.backends.cudnn.deterministic = True\n",
    "    torch.backends.cudnn.benchmark = False\n",
    "elif torch.backends.mps.is_available():\n",
    "    device = torch.device(\"mps\")\n",
    "else:\n",
    "    device = torch.device(\"cpu\")\n",
    "print(device)"
   ]
  },
  {
   "cell_type": "markdown",
   "metadata": {},
   "source": [
    "# Import Data"
   ]
  },
  {
   "cell_type": "code",
   "execution_count": 3,
   "metadata": {},
   "outputs": [],
   "source": [
    "# A_LR_train = pd.read_csv(\"../data/lr_train.csv\")\n",
    "# A_HR_train = pd.read_csv(\"../data/hr_train.csv\")\n",
    "# A_LR_test = pd.read_csv(\"../data/lr_test.csv\")"
   ]
  },
  {
   "cell_type": "code",
   "execution_count": 4,
   "metadata": {},
   "outputs": [],
   "source": [
    "LR_size = 160\n",
    "HR_size = 268"
   ]
  },
  {
   "cell_type": "code",
   "execution_count": 5,
   "metadata": {},
   "outputs": [],
   "source": [
    "# from sklearn.decomposition import PCA\n",
    "# from sklearn.mixture import GaussianMixture\n",
    "\n",
    "# A_HR_train = pd.read_csv(\"../data/hr_train.csv\")\n",
    "\n",
    "# pca = PCA(n_components=0.99, whiten=False)\n",
    "# A_HR_train_pca = pca.fit_transform(A_HR_train)\n",
    "# print(A_HR_train_pca.shape)\n",
    "\n",
    "# gm = GaussianMixture(n_components=5, random_state=random_seed)\n",
    "# A_HR_train_label = gm.fit_predict(A_HR_train_pca)\n",
    "# unique, counts = np.unique(A_HR_train_label, return_counts=True)\n",
    "# print(np.asarray((unique, counts)).T)\n",
    "\n",
    "# X = np.load('A_LR_train_matrix.npy')\n",
    "# y = np.load('A_HR_train_matrix.npy')\n",
    "\n",
    "# n_sample = X.shape[0]\n",
    "# X_train, X_val, y_train, y_val = train_test_split(\n",
    "#     X.reshape(n_sample, -1), \n",
    "#     y.reshape(n_sample, -1), \n",
    "#     test_size=0.20, \n",
    "#     random_state=random_seed,\n",
    "#     stratify=A_HR_train_label\n",
    "# )\n",
    "\n",
    "# X_train = X_train.reshape(-1, LR_size, LR_size)\n",
    "# X_val = X_val.reshape(-1, LR_size, LR_size)\n",
    "# y_train = y_train.reshape(-1, HR_size, HR_size)\n",
    "# y_val = y_val.reshape(-1, HR_size, HR_size)\n",
    "\n",
    "# print(\"Train size:\", len(X_train))\n",
    "# print(\"Val size:\", len(X_val))"
   ]
  },
  {
   "cell_type": "code",
   "execution_count": 6,
   "metadata": {},
   "outputs": [],
   "source": [
    "# def antivectorize_df(adj_mtx_df, size):\n",
    "    \n",
    "#     num_subject = adj_mtx_df.shape[0]\n",
    "#     adj_mtx = np.zeros((num_subject, size, size)) #torch.zeros((num_subject, LR_size, LR_size))\n",
    "#     for i in range(num_subject):\n",
    "#         adj_mtx[i] = MatrixVectorizer.anti_vectorize(adj_mtx_df.iloc[i], size) # torch.from_numpy(MatrixVectorizer.anti_vectorize(A_LR_train.iloc[i], LR_size))\n",
    "#     return adj_mtx\n",
    "\n",
    "# np.save('A_LR_train_matrix.npy', antivectorize_df(A_LR_train, LR_size))\n",
    "# np.save('A_HR_train_matrix.npy', antivectorize_df(A_HR_train, HR_size))\n",
    "# np.save('A_LR_test_matrix.npy', antivectorize_df(A_LR_test, LR_size))"
   ]
  },
  {
   "cell_type": "code",
   "execution_count": 7,
   "metadata": {},
   "outputs": [
    {
     "name": "stdout",
     "output_type": "stream",
     "text": [
      "(167, 160, 160)\n",
      "(167, 268, 268)\n",
      "(112, 160, 160)\n"
     ]
    }
   ],
   "source": [
    "A_LR_train_matrix = np.load('A_LR_train_matrix.npy')\n",
    "A_HR_train_matrix = np.load('A_HR_train_matrix.npy')\n",
    "A_LR_test_matrix = np.load(\"A_LR_test_matrix.npy\")\n",
    "\n",
    "print(A_LR_train_matrix.shape)\n",
    "print(A_HR_train_matrix.shape)\n",
    "print(A_LR_test_matrix.shape)"
   ]
  },
  {
   "cell_type": "markdown",
   "metadata": {},
   "source": [
    "# Parameters"
   ]
  },
  {
   "cell_type": "code",
   "execution_count": 8,
   "metadata": {},
   "outputs": [
    {
     "name": "stdout",
     "output_type": "stream",
     "text": [
      "Namespace(epochs=200, lr=0.0001, splits=3, lmbda=16, lr_dim=160, hr_dim=268, hidden_dim=268, padding=26, embedding_size=32, early_stop_patient=5, p_perturbe=0.5, p_drop_node=0.03, p_drop_edges=0.1, mean_dense=0.0, std_dense=0.01, mean_gaussian=0.0, std_gaussian=0.1)\n"
     ]
    }
   ],
   "source": [
    "import torch\n",
    "import numpy as np\n",
    "import torch.optim as optim\n",
    "from sklearn.model_selection import KFold\n",
    "from preprocessing import *\n",
    "from model import *\n",
    "from train import *\n",
    "import argparse\n",
    "\n",
    "\n",
    "\n",
    "epochs = 200\n",
    "\n",
    "\n",
    "parser = argparse.ArgumentParser(description='GSR-Net')\n",
    "parser.add_argument('--epochs', type=int, default=epochs, metavar='no_epochs',\n",
    "                help='number of episode to train ')\n",
    "parser.add_argument('--lr', type=float, default=0.0001, metavar='lr',\n",
    "                help='learning rate (default: 0.0001 using Adam Optimizer)')\n",
    "parser.add_argument('--splits', type=int, default=3, metavar='n_splits',\n",
    "                help='no of cross validation folds')\n",
    "parser.add_argument('--lmbda', type=int, default=16, metavar='L',\n",
    "                help='self-reconstruction error hyperparameter')\n",
    "parser.add_argument('--lr_dim', type=int, default=LR_size, metavar='N',\n",
    "                help='adjacency matrix input dimensions')\n",
    "parser.add_argument('--hr_dim', type=int, default=HR_size, metavar='N',\n",
    "                help='super-resolved adjacency matrix output dimensions')\n",
    "parser.add_argument('--hidden_dim', type=int, default=268, metavar='N',\n",
    "                help='hidden GraphConvolutional layer dimensions')\n",
    "parser.add_argument('--padding', type=int, default=26, metavar='padding',\n",
    "                help='dimensions of padding')\n",
    "parser.add_argument('--embedding_size', type=int, default=32, metavar='embedding_size',\n",
    "                help='node embedding size')\n",
    "parser.add_argument('--early_stop_patient', type=int, default=5, metavar='early_stop_patient',\n",
    "                help='early_stop_patience')\n",
    "\n",
    "parser.add_argument('--p_perturbe', type=float, default=0.5, metavar='p_perturbe',\n",
    "                help='p_perturbe')\n",
    "parser.add_argument('--p_drop_node', type=float, default=0.03, metavar='p_drop_node',\n",
    "                help='p_drop_node')\n",
    "parser.add_argument('--p_drop_edges', type=float, default=0.1, metavar='p_drop_edges',\n",
    "                help='p_drop_edges')\n",
    "parser.add_argument('--mean_dense', type=float, default=0., metavar='mean',\n",
    "                        help='mean of the normal distribution in Dense Layer')\n",
    "parser.add_argument('--std_dense', type=float, default=0.01, metavar='std',\n",
    "                    help='standard deviation of the normal distribution in Dense Layer')\n",
    "parser.add_argument('--mean_gaussian', type=float, default=0., metavar='mean',\n",
    "                    help='mean of the normal distribution in Gaussian Noise Layer')\n",
    "parser.add_argument('--std_gaussian', type=float, default=0.1, metavar='std',\n",
    "                    help='standard deviation of the normal distribution in Gaussian Noise Layer')\n",
    "\n",
    "\n",
    "# Create an empty Namespace to hold the default arguments\n",
    "args = parser.parse_args([]) \n",
    "print(args)"
   ]
  },
  {
   "cell_type": "code",
   "execution_count": 9,
   "metadata": {},
   "outputs": [
    {
     "name": "stdout",
     "output_type": "stream",
     "text": [
      "(167, 160, 160)\n",
      "(167, 268, 268)\n"
     ]
    }
   ],
   "source": [
    "# SIMULATING THE DATA: EDIT TO ENTER YOUR OWN DATA\n",
    "X = A_LR_train_matrix #np.random.normal(0, 0.5, (167, 160, 160))\n",
    "Y = A_HR_train_matrix #np.random.normal(0, 0.5, (167, 288, 288))\n",
    "print(X.shape)\n",
    "print(Y.shape)"
   ]
  },
  {
   "cell_type": "code",
   "execution_count": 10,
   "metadata": {},
   "outputs": [
    {
     "name": "stdout",
     "output_type": "stream",
     "text": [
      "cuda\n"
     ]
    }
   ],
   "source": [
    "device = get_device()\n",
    "print(device)"
   ]
  },
  {
   "cell_type": "code",
   "execution_count": 11,
   "metadata": {},
   "outputs": [
    {
     "name": "stdout",
     "output_type": "stream",
     "text": [
      "(167, 160, 160)\n"
     ]
    }
   ],
   "source": [
    "def compute_degree_matrix_normalization_batch_numpy(adjacency_batch):\n",
    "    \"\"\"\n",
    "    Optimizes the degree matrix normalization for a batch of adjacency matrices using NumPy.\n",
    "    Computes the normalized adjacency matrix D^-1 * A for each graph in the batch.\n",
    "    \n",
    "    Parameters:\n",
    "    - adjacency_batch: A NumPy array of shape (batch_size, num_nodes, num_nodes) representing\n",
    "                       a batch of adjacency matrices.\n",
    "\n",
    "    Returns:\n",
    "    - A NumPy array of normalized adjacency matrices.\n",
    "    \"\"\"\n",
    "    epsilon = 1e-6  # Small constant to avoid division by zero\n",
    "    # Calculate the degree for each node in the batch\n",
    "    d = adjacency_batch.sum(axis=2) + epsilon\n",
    "    \n",
    "    # Compute the inverse degree matrix D^-1 for the batch\n",
    "    D_inv = np.reciprocal(d)[:, :, np.newaxis] * np.eye(adjacency_batch.shape[1])[np.newaxis, :, :]\n",
    "    \n",
    "    # Normalize the adjacency matrix using batch matrix multiplication\n",
    "    normalized_adjacency_batch = np.matmul(D_inv, adjacency_batch)\n",
    "    \n",
    "    return normalized_adjacency_batch\n",
    "X = compute_degree_matrix_normalization_batch_numpy(X)\n",
    "A_LR_test_matrix = compute_degree_matrix_normalization_batch_numpy(A_LR_test_matrix)\n",
    "print(X.shape)"
   ]
  },
  {
   "cell_type": "markdown",
   "metadata": {},
   "source": [
    "# Hyperparameter Tuning"
   ]
  },
  {
   "cell_type": "code",
   "execution_count": 12,
   "metadata": {},
   "outputs": [
    {
     "name": "stdout",
     "output_type": "stream",
     "text": [
      "(167, 161)\n",
      "[[ 0 13]\n",
      " [ 1 41]\n",
      " [ 2 14]\n",
      " [ 3 48]\n",
      " [ 4 51]]\n"
     ]
    }
   ],
   "source": [
    "A_HR_train = pd.read_csv(\"../data/hr_train.csv\")\n",
    "\n",
    "pca = PCA(n_components=0.99, whiten=False)\n",
    "A_HR_train_pca = pca.fit_transform(A_HR_train)\n",
    "print(A_HR_train_pca.shape)\n",
    "\n",
    "gm = GaussianMixture(n_components=5, random_state=random_seed)\n",
    "A_HR_train_label = gm.fit_predict(A_HR_train_pca)\n",
    "unique, counts = np.unique(A_HR_train_label, return_counts=True)\n",
    "print(np.asarray((unique, counts)).T)"
   ]
  },
  {
   "cell_type": "code",
   "execution_count": 12,
   "metadata": {},
   "outputs": [],
   "source": [
    "import gc\n",
    "\n",
    "best_mae = 1000\n",
    "best_params = None\n",
    "best_model = None\n",
    "\n",
    "def hyperparameter_search(n_trials=40):\n",
    "    def objective(trial):\n",
    "        global best_mae\n",
    "        global best_params\n",
    "        global best_model\n",
    "        ks = [0.9, 0.7, 0.6, 0.5]\n",
    "        num_epochs = 200\n",
    "        lr = trial.suggest_float('lr', 9e-5, 3e-4, log=True)\n",
    "        lmbda = trial.suggest_int('lmbda', 12, 52, step=4)\n",
    "        \n",
    "        hidden_dim = 268\n",
    "        stop_gan_mae = 0.135\n",
    "        patience = 5\n",
    "        ks = trial.suggest_categorical(\"ks\", [[0.9, 0.7, 0.6, 0.5], [0.9, 0.7, 0.5], [0.8, 0.5], [0.9, 0.8, 0.7, 0.6, 0.5], [0.5]])\n",
    "        # dropout_rate = trial.suggest_float('dropout_rate', 0.05, 0.3, step=0.05)\n",
    "        # p_perturbe = trial.suggest_float('p_perturbe', 0, 0.7, step=0.05)\n",
    "        # p_drop_node = trial.suggest_float('p_drop_node', 0.01, 0.1, step=0.005)\n",
    "        # p_drop_edges = trial.suggest_float('p_drop_edges', 0.03, 0.18, step=0.005)\n",
    "\n",
    "        args.epochs = num_epochs\n",
    "        args.lr = lr\n",
    "        args.lmbda = lmbda\n",
    "        args.hidden_dim = hidden_dim\n",
    "        args.early_stop_patient = patience\n",
    "        # args.dropout_rate = dropout_rate\n",
    "        # args.p_perturbe = p_perturbe\n",
    "        # args.p_drop_node = p_drop_node\n",
    "        # args.p_drop_edges = p_drop_edges\n",
    "\n",
    "        params = {\n",
    "                \"lr\": lr,\n",
    "                \"lmbda\": lmbda,\n",
    "                \"hidden_dim\": hidden_dim,\n",
    "                \"patience\": patience,\n",
    "                # \"dropout_rate\": dropout_rate,\n",
    "                # \"p_perturbe\": p_perturbe,\n",
    "                # \"p_drop_node\": p_drop_node,\n",
    "                # \"p_drop_edges\": p_drop_edges,\n",
    "                \"ks\": ks,\n",
    "            }\n",
    "        print(f\"Trial {trial.number}: {params}\")\n",
    "\n",
    "        n_sample = X.shape[0]\n",
    "        X_train, X_val, y_train, y_val = train_test_split(\n",
    "            X.reshape(n_sample, -1), \n",
    "            Y.reshape(n_sample, -1), \n",
    "            test_size=0.10, \n",
    "            random_state=random_seed,\n",
    "            stratify=A_HR_train_label\n",
    "        )\n",
    "        \n",
    "        X_train = X_train.reshape(-1, LR_size, LR_size)\n",
    "        X_val = X_val.reshape(-1, LR_size, LR_size)\n",
    "        y_train = y_train.reshape(-1, HR_size, HR_size)\n",
    "        y_val = y_val.reshape(-1, HR_size, HR_size)\n",
    "\n",
    "        modelG = GSRNet(ks, args).to(device)\n",
    "        optimizerG = torch.optim.Adam(modelG.parameters(), lr=args.lr)\n",
    "\n",
    "        modelD = Discriminator(args).to(device)\n",
    "        optimizerD = optim.Adam(modelD.parameters(), lr=args.lr)\n",
    "        \n",
    "        return_model = train_gan(\n",
    "            modelG, \n",
    "            optimizerG, \n",
    "            modelD, \n",
    "            optimizerD, \n",
    "            X_train, \n",
    "            y_train, \n",
    "            args, \n",
    "            X_val, \n",
    "            y_val,\n",
    "        )\n",
    "        test_mae = test(return_model, X_val, y_val, args)\n",
    "        mean_mae = test_mae\n",
    "        if mean_mae < best_mae:\n",
    "            best_mae = mean_mae\n",
    "            best_params = params\n",
    "            best_model = return_model\n",
    "            print(f\"New best MAE: {test_mae} with params: {best_params}\")\n",
    "\n",
    "        return mean_mae\n",
    "    \n",
    "    study = optuna.create_study(direction='minimize', study_name='GSR_hyperparameter_search', sampler=optuna.samplers.TPESampler())\n",
    "    study.optimize(objective, n_trials=n_trials)\n",
    "    return study.best_params\n",
    "\n",
    "# best_params = hyperparameter_search(40)\n",
    "# print(best_params)"
   ]
  },
  {
   "cell_type": "code",
   "execution_count": 13,
   "metadata": {},
   "outputs": [
    {
     "name": "stdout",
     "output_type": "stream",
     "text": [
      "Namespace(epochs=200, lr=0.00010436239086997339, splits=3, lmbda=24, lr_dim=160, hr_dim=268, hidden_dim=268, padding=26, embedding_size=32, early_stop_patient=5, p_perturbe=0.5, p_drop_node=0.05, p_drop_edges=0.11, mean_dense=0.0, std_dense=0.01, mean_gaussian=0.0, std_gaussian=0.1, patience=5, dropout_rate=0.15000000000000002)\n"
     ]
    }
   ],
   "source": [
    "ks = [0.9, 0.7, 0.6, 0.5]\n",
    "gan_params = {\n",
    "    'lr': 0.00010436239086997339, \n",
    "    'lmbda': 24, \n",
    "    'hidden_dim': 268, \n",
    "    'patience': 5, \n",
    "    'dropout_rate': 0.15000000000000002, \n",
    "    'p_perturbe': 0.5, \n",
    "    'p_drop_node': 0.05, \n",
    "    'p_drop_edges': 0.11\n",
    "}\n",
    "\n",
    "vars(args).update(gan_params)\n",
    "print(args)"
   ]
  },
  {
   "cell_type": "markdown",
   "metadata": {},
   "source": [
    "# K-Fold Cross Validation"
   ]
  },
  {
   "cell_type": "code",
   "execution_count": 15,
   "metadata": {},
   "outputs": [
    {
     "name": "stdout",
     "output_type": "stream",
     "text": [
      "----- Fold 1 -----\n"
     ]
    },
    {
     "data": {
      "application/json": {
       "ascii": false,
       "bar_format": null,
       "colour": null,
       "elapsed": 0.005960702896118164,
       "initial": 0,
       "n": 0,
       "ncols": null,
       "nrows": 65,
       "postfix": null,
       "prefix": "Epoch Progress",
       "rate": null,
       "total": 200,
       "unit": "epoch",
       "unit_divisor": 1000,
       "unit_scale": false
      },
      "application/vnd.jupyter.widget-view+json": {
       "model_id": "ffdbe5a856424ef69980b3ddc06692d2",
       "version_major": 2,
       "version_minor": 0
      },
      "text/plain": [
       "Epoch Progress:   0%|          | 0/200 [00:00<?, ?epoch/s]"
      ]
     },
     "metadata": {},
     "output_type": "display_data"
    },
    {
     "name": "stdout",
     "output_type": "stream",
     "text": [
      "Val Error: 0.128117\n",
      "Train MAE: 0.129065, Val MAE: 0.128117\n",
      "----- Fold 2 -----\n"
     ]
    },
    {
     "data": {
      "application/json": {
       "ascii": false,
       "bar_format": null,
       "colour": null,
       "elapsed": 0.004694700241088867,
       "initial": 0,
       "n": 0,
       "ncols": null,
       "nrows": 65,
       "postfix": null,
       "prefix": "Epoch Progress",
       "rate": null,
       "total": 200,
       "unit": "epoch",
       "unit_divisor": 1000,
       "unit_scale": false
      },
      "application/vnd.jupyter.widget-view+json": {
       "model_id": "e6821c31da5a41e59c914c31565afdbd",
       "version_major": 2,
       "version_minor": 0
      },
      "text/plain": [
       "Epoch Progress:   0%|          | 0/200 [00:00<?, ?epoch/s]"
      ]
     },
     "metadata": {},
     "output_type": "display_data"
    },
    {
     "name": "stdout",
     "output_type": "stream",
     "text": [
      "Val Error: 0.137824\n",
      "Train MAE: 0.127409, Val MAE: 0.137824\n",
      "----- Fold 3 -----\n"
     ]
    },
    {
     "data": {
      "application/json": {
       "ascii": false,
       "bar_format": null,
       "colour": null,
       "elapsed": 0.005057334899902344,
       "initial": 0,
       "n": 0,
       "ncols": null,
       "nrows": 65,
       "postfix": null,
       "prefix": "Epoch Progress",
       "rate": null,
       "total": 200,
       "unit": "epoch",
       "unit_divisor": 1000,
       "unit_scale": false
      },
      "application/vnd.jupyter.widget-view+json": {
       "model_id": "85717b0d99df42d7b10efda563cc859c",
       "version_major": 2,
       "version_minor": 0
      },
      "text/plain": [
       "Epoch Progress:   0%|          | 0/200 [00:00<?, ?epoch/s]"
      ]
     },
     "metadata": {},
     "output_type": "display_data"
    },
    {
     "name": "stdout",
     "output_type": "stream",
     "text": [
      "Val Error: 0.134425\n",
      "Train MAE: 0.131564, Val MAE: 0.134425\n"
     ]
    }
   ],
   "source": [
    "cv = KFold(n_splits=args.splits, random_state=random_seed, shuffle=True)\n",
    "\n",
    "ks = [0.9, 0.7, 0.6, 0.5]\n",
    "stop_gan_mae = 0.135\n",
    "\n",
    "best_model_fold_list = []\n",
    "data_fold_list = []\n",
    "i = 1\n",
    "for train_index, test_index in cv.split(X):\n",
    "\n",
    "    print(f\"----- Fold {i} -----\")\n",
    "    subjects_adj, test_adj, subjects_ground_truth, test_ground_truth = X[\n",
    "        train_index], X[test_index], Y[train_index], Y[test_index]\n",
    "    data_fold_list.append((subjects_adj, test_adj, subjects_ground_truth, test_ground_truth))\n",
    "\n",
    "    netG = GSRNet(ks, args).to(device)\n",
    "    optimizerG = optim.Adam(netG.parameters(), lr=args.lr)\n",
    "\n",
    "    netD = Discriminator(args).to(device)\n",
    "    optimizerD = optim.Adam(netD.parameters(), lr=args.lr)\n",
    "\n",
    "    #GAN model\n",
    "    return_model = train_gan(\n",
    "        netG, \n",
    "        optimizerG, \n",
    "        netD,\n",
    "        optimizerD,\n",
    "        subjects_adj, \n",
    "        subjects_ground_truth, \n",
    "        args, \n",
    "        test_adj=test_adj, \n",
    "        test_ground_truth=test_ground_truth,\n",
    "    )\n",
    "\n",
    "    test_mae = test(return_model, test_adj, test_ground_truth, args)\n",
    "    train_mae = test(return_model, subjects_adj, subjects_ground_truth, args)\n",
    "    print(f\"Train MAE: {train_mae:.6f}, Val MAE: {test_mae:.6f}\")\n",
    "    best_model_fold_list.append(return_model)\n",
    "\n",
    "    i += 1"
   ]
  },
  {
   "cell_type": "code",
   "execution_count": 14,
   "metadata": {},
   "outputs": [],
   "source": [
    "from MatrixVectorizer import MatrixVectorizer\n",
    "\n",
    "from sklearn.metrics import mean_squared_error, mean_absolute_error\n",
    "from scipy.stats import pearsonr\n",
    "from scipy.spatial.distance import jensenshannon\n",
    "import torch\n",
    "import networkx as nx\n",
    "\n",
    "def evaluate(pred_matrices, gt_matrices, cal_graph=False):\n",
    "\n",
    "    # pred_matrices = pred_matrices.cpu().detach().numpy()\n",
    "    # gt_matrices = gt_matrices.cpu().detach().numpy()\n",
    "\n",
    "    num_test_samples = gt_matrices.shape[0]\n",
    "\n",
    "    # Initialize lists to store MAEs for each centrality measure\n",
    "    mae_bc = []\n",
    "    mae_ec = []\n",
    "    mae_pc = []\n",
    "    \n",
    "    pred_1d = []\n",
    "    gt_1d = []\n",
    "\n",
    "    # Iterate over each test sample\n",
    "    for i in tqdm(range(num_test_samples)):\n",
    "\n",
    "        pred_1d.append(MatrixVectorizer.vectorize(pred_matrices[i]))\n",
    "        gt_1d.append(MatrixVectorizer.vectorize(gt_matrices[i]))\n",
    "\n",
    "        if cal_graph:\n",
    "            # Convert adjacency matrices to NetworkX graphs\n",
    "            pred_graph = nx.from_numpy_array(pred_matrices[i])\n",
    "            gt_graph = nx.from_numpy_array(gt_matrices[i])\n",
    "\n",
    "            # Compute centrality measures\n",
    "            pred_bc = nx.betweenness_centrality(pred_graph, weight=\"weight\")\n",
    "            pred_ec = nx.eigenvector_centrality(pred_graph, weight=\"weight\")\n",
    "            pred_pc = nx.pagerank(pred_graph, weight=\"weight\")\n",
    "\n",
    "            gt_bc = nx.betweenness_centrality(gt_graph, weight=\"weight\")\n",
    "            gt_ec = nx.eigenvector_centrality(gt_graph, weight=\"weight\")\n",
    "            gt_pc = nx.pagerank(gt_graph, weight=\"weight\")\n",
    "\n",
    "            # Convert centrality dictionaries to lists\n",
    "            pred_bc_values = list(pred_bc.values())\n",
    "            pred_ec_values = list(pred_ec.values())\n",
    "            pred_pc_values = list(pred_pc.values())\n",
    "\n",
    "            gt_bc_values = list(gt_bc.values())\n",
    "            gt_ec_values = list(gt_ec.values())\n",
    "            gt_pc_values = list(gt_pc.values())\n",
    "\n",
    "            # Compute MAEs\n",
    "            mae_bc.append(mean_absolute_error(pred_bc_values, gt_bc_values))\n",
    "            mae_ec.append(mean_absolute_error(pred_ec_values, gt_ec_values))\n",
    "            mae_pc.append(mean_absolute_error(pred_pc_values, gt_pc_values))\n",
    "\n",
    "    if cal_graph:\n",
    "        # Compute average MAEs\n",
    "        avg_mae_bc = sum(mae_bc) / len(mae_bc)\n",
    "        avg_mae_ec = sum(mae_ec) / len(mae_ec)\n",
    "        avg_mae_pc = sum(mae_pc) / len(mae_pc)\n",
    "\n",
    "    # vectorize and flatten\n",
    "    pred_1d = np.concatenate(pred_1d, axis=0).flatten()\n",
    "    gt_1d = np.concatenate(gt_1d, axis=0).flatten()\n",
    "\n",
    "    mae = mean_absolute_error(pred_1d, gt_1d)\n",
    "    pcc = pearsonr(pred_1d, gt_1d)[0]\n",
    "    js_dis = jensenshannon(pred_1d, gt_1d)\n",
    "\n",
    "    print(\"MAE: \", mae)\n",
    "    print(\"PCC: \", pcc)\n",
    "    print(\"Jensen-Shannon Distance: \", js_dis)\n",
    "    if cal_graph:\n",
    "        print(\"Average MAE betweenness centrality:\", avg_mae_bc)\n",
    "        print(\"Average MAE eigenvector centrality:\", avg_mae_ec)\n",
    "        print(\"Average MAE PageRank centrality:\", avg_mae_pc)\n",
    "\n",
    "    if cal_graph:\n",
    "\n",
    "        res = {\n",
    "            \"MAE\": mae,\n",
    "            \"PCC\": pcc,\n",
    "            \"JSD\": js_dis,\n",
    "            \"MAE_(BC)\": avg_mae_bc,\n",
    "            \"MAE_(EC)\": avg_mae_ec,\n",
    "            \"MAE_(PC)\": avg_mae_pc\n",
    "        }\n",
    "    else:\n",
    "        res = {\n",
    "            \"MAE\": mae,\n",
    "            \"PCC\": pcc,\n",
    "            \"JSD\": js_dis,\n",
    "            # \"MAE_(BC)\": avg_mae_bc,\n",
    "            # \"MAE_(EC)\": avg_mae_ec,\n",
    "            # \"MAE_(PC)\": avg_mae_pc\n",
    "        }\n",
    "\n",
    "    return res\n",
    "  \n",
    "  \n",
    "def plot_metrics_fold(res_list):\n",
    "    df = pd.DataFrame(res_list)\n",
    "    df = df.rename(columns={\"mae\": \"MAE\", \"pcc\": \"PCC\", \"js_dis\": \"JSD\", \"avg_mae_bc\": \"MAE_(BC)\", \"avg_mae_ec\": \"MAE_(EC)\", \"avg_mae_pc\": \"MAE_(PC)\"})\n",
    "    df.index = df.index.set_names(['Fold'])\n",
    "    df.loc['mean'] = df.mean()\n",
    "    avg_data = df.iloc[-1, :]\n",
    "    df.loc['std'] = df.std()\n",
    "    errors = df.iloc[-1, :].tolist()\n",
    "    df = df.reset_index()\n",
    "    df = df.iloc[:-2, :]\n",
    "    df_long = df.melt(id_vars='Fold', var_name='Metric', value_name='Value')\n",
    "    palette = sns.color_palette(\"muted\", n_colors=len(df_long['Metric'].unique()))\n",
    "    fig, axs = plt.subplots(2, 2, figsize=(12, 10))\n",
    "\n",
    "    for fold in range(3):   \n",
    "        i = fold // 2\n",
    "        j = fold % 2\n",
    "        sns.barplot(x='Metric', y='Value', data=df_long[df_long['Fold'] == fold], ax=axs[i, j], palette=palette, hue='Metric')\n",
    "        axs[i, j].set_title(f\"Fold: {fold+1}\")\n",
    "\n",
    "\n",
    "    bars = sns.barplot(x=avg_data.index, y=avg_data.values, ax=axs[1, 1], palette=palette, capsize=5)\n",
    "\n",
    "    for i, bar in enumerate(bars.patches):\n",
    "        # Calculate the x-position of the error bar\n",
    "        x_pos = bar.get_x() + bar.get_width() / 2\n",
    "\n",
    "        # Add error bar for this metric\n",
    "        axs[1, 1].errorbar(x_pos, avg_data.values[i], yerr=errors[i], fmt='none', color='black', capsize=5)\n",
    "    \n",
    "    axs[1, 1].set_title(\"Avg. Across Folds\")\n",
    "    plt.show()"
   ]
  },
  {
   "cell_type": "code",
   "execution_count": 23,
   "metadata": {},
   "outputs": [
    {
     "data": {
      "application/json": {
       "ascii": false,
       "bar_format": null,
       "colour": null,
       "elapsed": 0.00490880012512207,
       "initial": 0,
       "n": 0,
       "ncols": null,
       "nrows": 65,
       "postfix": null,
       "prefix": "",
       "rate": null,
       "total": 56,
       "unit": "it",
       "unit_divisor": 1000,
       "unit_scale": false
      },
      "application/vnd.jupyter.widget-view+json": {
       "model_id": "aa0cca1ac7814b67a5d5c8e2621361c0",
       "version_major": 2,
       "version_minor": 0
      },
      "text/plain": [
       "  0%|          | 0/56 [00:00<?, ?it/s]"
      ]
     },
     "metadata": {},
     "output_type": "display_data"
    },
    {
     "name": "stdout",
     "output_type": "stream",
     "text": [
      "MAE:  0.12811324669047927\n",
      "PCC:  0.6693563951327818\n",
      "Jensen-Shannon Distance:  0.2768801859878052\n",
      "Average MAE betweenness centrality: 0.02082866872266793\n",
      "Average MAE eigenvector centrality: 0.013126641105436007\n",
      "Average MAE PageRank centrality: 0.0005528267509704363\n"
     ]
    },
    {
     "data": {
      "application/json": {
       "ascii": false,
       "bar_format": null,
       "colour": null,
       "elapsed": 0.004823207855224609,
       "initial": 0,
       "n": 0,
       "ncols": null,
       "nrows": 65,
       "postfix": null,
       "prefix": "",
       "rate": null,
       "total": 56,
       "unit": "it",
       "unit_divisor": 1000,
       "unit_scale": false
      },
      "application/vnd.jupyter.widget-view+json": {
       "model_id": "9ae3342e64d649cb9afbcd07a7bc670d",
       "version_major": 2,
       "version_minor": 0
      },
      "text/plain": [
       "  0%|          | 0/56 [00:00<?, ?it/s]"
      ]
     },
     "metadata": {},
     "output_type": "display_data"
    },
    {
     "name": "stdout",
     "output_type": "stream",
     "text": [
      "MAE:  0.13781712295279994\n",
      "PCC:  0.6351482000890718\n",
      "Jensen-Shannon Distance:  0.28895718016261684\n",
      "Average MAE betweenness centrality: 0.020615481379714834\n",
      "Average MAE eigenvector centrality: 0.013825333952471697\n",
      "Average MAE PageRank centrality: 0.0005702821231801657\n"
     ]
    },
    {
     "data": {
      "application/json": {
       "ascii": false,
       "bar_format": null,
       "colour": null,
       "elapsed": 0.00485682487487793,
       "initial": 0,
       "n": 0,
       "ncols": null,
       "nrows": 65,
       "postfix": null,
       "prefix": "",
       "rate": null,
       "total": 55,
       "unit": "it",
       "unit_divisor": 1000,
       "unit_scale": false
      },
      "application/vnd.jupyter.widget-view+json": {
       "model_id": "b66e4b5c41f0429090422fc77e77533c",
       "version_major": 2,
       "version_minor": 0
      },
      "text/plain": [
       "  0%|          | 0/55 [00:00<?, ?it/s]"
      ]
     },
     "metadata": {},
     "output_type": "display_data"
    },
    {
     "name": "stdout",
     "output_type": "stream",
     "text": [
      "MAE:  0.13442560779436277\n",
      "PCC:  0.6467274374201493\n",
      "Jensen-Shannon Distance:  0.28334452234454505\n",
      "Average MAE betweenness centrality: 0.02049117388932212\n",
      "Average MAE eigenvector centrality: 0.01325936322897272\n",
      "Average MAE PageRank centrality: 0.0005672289388375054\n"
     ]
    },
    {
     "data": {
      "text/html": [
       "<div>\n",
       "<style scoped>\n",
       "    .dataframe tbody tr th:only-of-type {\n",
       "        vertical-align: middle;\n",
       "    }\n",
       "\n",
       "    .dataframe tbody tr th {\n",
       "        vertical-align: top;\n",
       "    }\n",
       "\n",
       "    .dataframe thead th {\n",
       "        text-align: right;\n",
       "    }\n",
       "</style>\n",
       "<table border=\"1\" class=\"dataframe\">\n",
       "  <thead>\n",
       "    <tr style=\"text-align: right;\">\n",
       "      <th></th>\n",
       "      <th>MAE</th>\n",
       "      <th>PCC</th>\n",
       "      <th>JSD</th>\n",
       "      <th>MAE_(BC)</th>\n",
       "      <th>MAE_(EC)</th>\n",
       "      <th>MAE_(PC)</th>\n",
       "    </tr>\n",
       "  </thead>\n",
       "  <tbody>\n",
       "    <tr>\n",
       "      <th>0</th>\n",
       "      <td>0.128113</td>\n",
       "      <td>0.669356</td>\n",
       "      <td>0.276880</td>\n",
       "      <td>0.020829</td>\n",
       "      <td>0.013127</td>\n",
       "      <td>0.000553</td>\n",
       "    </tr>\n",
       "    <tr>\n",
       "      <th>1</th>\n",
       "      <td>0.137817</td>\n",
       "      <td>0.635148</td>\n",
       "      <td>0.288957</td>\n",
       "      <td>0.020615</td>\n",
       "      <td>0.013825</td>\n",
       "      <td>0.000570</td>\n",
       "    </tr>\n",
       "    <tr>\n",
       "      <th>2</th>\n",
       "      <td>0.134426</td>\n",
       "      <td>0.646727</td>\n",
       "      <td>0.283345</td>\n",
       "      <td>0.020491</td>\n",
       "      <td>0.013259</td>\n",
       "      <td>0.000567</td>\n",
       "    </tr>\n",
       "  </tbody>\n",
       "</table>\n",
       "</div>"
      ],
      "text/plain": [
       "        MAE       PCC       JSD  MAE_(BC)  MAE_(EC)  MAE_(PC)\n",
       "0  0.128113  0.669356  0.276880  0.020829  0.013127  0.000553\n",
       "1  0.137817  0.635148  0.288957  0.020615  0.013825  0.000570\n",
       "2  0.134426  0.646727  0.283345  0.020491  0.013259  0.000567"
      ]
     },
     "execution_count": 23,
     "metadata": {},
     "output_type": "execute_result"
    }
   ],
   "source": [
    "CAL_GRAPH = False\n",
    "\n",
    "res_list = []\n",
    "\n",
    "for i in range(args.splits):\n",
    "    _, test_adjs, _, gt_matrices = data_fold_list[i]\n",
    "    model = best_model_fold_list[i]\n",
    "    model.eval()\n",
    "    pred_matrices = np.zeros(gt_matrices.shape)\n",
    "    with torch.no_grad():\n",
    "        for j, test_adj in enumerate(test_adjs):\n",
    "            pred = model(torch.from_numpy(test_adj))[0]\n",
    "            pred = torch.clamp(pred, min=0.0, max=1.0)\n",
    "            pred = pred.cpu()\n",
    "            pred_matrices[j] = pred\n",
    "    res_list.append(evaluate(pred_matrices, gt_matrices, cal_graph=CAL_GRAPH))\n",
    "\n",
    "pd.DataFrame(res_list)"
   ]
  },
  {
   "cell_type": "code",
   "execution_count": 28,
   "metadata": {},
   "outputs": [
    {
     "name": "stderr",
     "output_type": "stream",
     "text": [
      "/tmp/ipykernel_2145723/41024253.py:124: FutureWarning: \n",
      "\n",
      "Passing `palette` without assigning `hue` is deprecated and will be removed in v0.14.0. Assign the `x` variable to `hue` and set `legend=False` for the same effect.\n",
      "\n",
      "  bars = sns.barplot(x=avg_data.index, y=avg_data.values, ax=axs[1, 1], palette=palette, capsize=5)\n"
     ]
    },
    {
     "data": {
      "image/png": "[encoded data removed]",
      "text/plain": [
       "<Figure size 1200x1000 with 4 Axes>"
      ]
     },
     "metadata": {},
     "output_type": "display_data"
    }
   ],
   "source": [
    "plot_metrics_fold(res_list)"
   ]
  },
  {
   "cell_type": "code",
   "execution_count": 29,
   "metadata": {},
   "outputs": [],
   "source": [
    "for i in range(args.splits):\n",
    "    _, test_adjs, _, gt_matrices = data_fold_list[i]\n",
    "    model = best_model_fold_list[i]\n",
    "    model.eval()\n",
    "\n",
    "    output_pred_list = []\n",
    "    with torch.no_grad():\n",
    "        for j, test_adj in tqdm(enumerate(test_adjs)):\n",
    "            output_pred = model(torch.from_numpy(test_adj))[0].cpu()\n",
    "            output_pred = MatrixVectorizer.vectorize(output_pred).tolist()\n",
    "            output_pred_list.append(output_pred)\n",
    "\n",
    "    output_pred_stack = np.stack(output_pred_list, axis=0)\n",
    "    output_pred_1d = output_pred_stack.flatten()\n",
    "\n",
    "    df = pd.DataFrame({\n",
    "        \"ID\": [i+1 for i in range(len(output_pred_1d))],\n",
    "        \"Predicted\": output_pred_1d.tolist()\n",
    "    })\n",
    "\n",
    "    df.to_csv(\"predictions_fold_\"+str(i+1)+\".csv\", index=False)"
   ]
  },
  {
   "cell_type": "markdown",
   "metadata": {},
   "source": [
    "# Final Model"
   ]
  },
  {
   "cell_type": "code",
   "execution_count": 15,
   "metadata": {},
   "outputs": [
    {
     "name": "stdout",
     "output_type": "stream",
     "text": [
      "(167, 161)\n",
      "[[ 0 13]\n",
      " [ 1 41]\n",
      " [ 2 14]\n",
      " [ 3 48]\n",
      " [ 4 51]]\n",
      "Train size: 150\n",
      "Val size: 17\n"
     ]
    },
    {
     "data": {
      "application/json": {
       "ascii": false,
       "bar_format": null,
       "colour": null,
       "elapsed": 0.005057096481323242,
       "initial": 0,
       "n": 0,
       "ncols": null,
       "nrows": 65,
       "postfix": null,
       "prefix": "Epoch Progress",
       "rate": null,
       "total": 200,
       "unit": "epoch",
       "unit_divisor": 1000,
       "unit_scale": false
      },
      "application/vnd.jupyter.widget-view+json": {
       "model_id": "71303fa444e946ba80eebd0b965543c0",
       "version_major": 2,
       "version_minor": 0
      },
      "text/plain": [
       "Epoch Progress:   0%|          | 0/200 [00:00<?, ?epoch/s]"
      ]
     },
     "metadata": {},
     "output_type": "display_data"
    },
    {
     "name": "stdout",
     "output_type": "stream",
     "text": [
      "Val Error: 0.126491\n"
     ]
    }
   ],
   "source": [
    "A_HR_train = pd.read_csv(\"../data/hr_train.csv\")\n",
    "\n",
    "pca = PCA(n_components=0.99, whiten=False)\n",
    "A_HR_train_pca = pca.fit_transform(A_HR_train)\n",
    "print(A_HR_train_pca.shape)\n",
    "\n",
    "gm = GaussianMixture(n_components=5, random_state=random_seed)\n",
    "A_HR_train_label = gm.fit_predict(A_HR_train_pca)\n",
    "unique, counts = np.unique(A_HR_train_label, return_counts=True)\n",
    "print(np.asarray((unique, counts)).T)\n",
    "\n",
    "X = np.load('A_LR_train_matrix.npy')\n",
    "y = np.load('A_HR_train_matrix.npy')\n",
    "X = compute_degree_matrix_normalization_batch_numpy(X)\n",
    "\n",
    "n_sample = X.shape[0]\n",
    "X_train, X_val, y_train, y_val = train_test_split(\n",
    "    X.reshape(n_sample, -1), \n",
    "    y.reshape(n_sample, -1), \n",
    "    test_size=0.10, \n",
    "    random_state=random_seed,\n",
    "    stratify=A_HR_train_label\n",
    ")\n",
    "\n",
    "X_train = X_train.reshape(-1, LR_size, LR_size)\n",
    "X_val = X_val.reshape(-1, LR_size, LR_size)\n",
    "y_train = y_train.reshape(-1, HR_size, HR_size)\n",
    "y_val = y_val.reshape(-1, HR_size, HR_size)\n",
    "\n",
    "print(\"Train size:\", len(X_train))\n",
    "print(\"Val size:\", len(X_val))\n",
    "\n",
    "netG = GSRNet(ks, args).to(device)\n",
    "optimizerG = optim.Adam(netG.parameters(), lr=args.lr)\n",
    "args.early_stop_patient = 5\n",
    "\n",
    "netG = GSRNet(ks, args).to(device)\n",
    "optimizerG = optim.Adam(netG.parameters(), lr=args.lr)\n",
    "\n",
    "netD = Discriminator(args).to(device)\n",
    "optimizerD = optim.Adam(netD.parameters(), lr=args.lr)\n",
    "\n",
    "#GAN model\n",
    "return_model = train_gan(\n",
    "    netG, \n",
    "    optimizerG, \n",
    "    netD,\n",
    "    optimizerD,\n",
    "    X_train, \n",
    "    y_train, \n",
    "    args, \n",
    "    test_adj=X_val, \n",
    "    test_ground_truth=y_val,\n",
    ")"
   ]
  },
  {
   "cell_type": "code",
   "execution_count": 17,
   "metadata": {},
   "outputs": [],
   "source": [
    "final_model = return_model"
   ]
  },
  {
   "cell_type": "code",
   "execution_count": 18,
   "metadata": {},
   "outputs": [
    {
     "name": "stdout",
     "output_type": "stream",
     "text": [
      "Namespace(epochs=200, lr=0.00010436239086997339, splits=3, lmbda=24, lr_dim=160, hr_dim=268, hidden_dim=268, padding=26, embedding_size=32, early_stop_patient=5, p_perturbe=0.5, p_drop_node=0.05, p_drop_edges=0.11, mean_dense=0.0, std_dense=0.01, mean_gaussian=0.0, std_gaussian=0.1, patience=5, dropout_rate=0.15000000000000002)\n"
     ]
    }
   ],
   "source": [
    "print(args)"
   ]
  },
  {
   "cell_type": "code",
   "execution_count": 22,
   "metadata": {},
   "outputs": [
    {
     "name": "stdout",
     "output_type": "stream",
     "text": [
      "Train\n"
     ]
    },
    {
     "data": {
      "application/json": {
       "ascii": false,
       "bar_format": null,
       "colour": null,
       "elapsed": 0.005747079849243164,
       "initial": 0,
       "n": 0,
       "ncols": null,
       "nrows": 65,
       "postfix": null,
       "prefix": "",
       "rate": null,
       "total": 150,
       "unit": "it",
       "unit_divisor": 1000,
       "unit_scale": false
      },
      "application/vnd.jupyter.widget-view+json": {
       "model_id": "e50fd938b8ca4ec1a060d92dbbb7ddd1",
       "version_major": 2,
       "version_minor": 0
      },
      "text/plain": [
       "  0%|          | 0/150 [00:00<?, ?it/s]"
      ]
     },
     "metadata": {},
     "output_type": "display_data"
    },
    {
     "name": "stdout",
     "output_type": "stream",
     "text": [
      "MAE:  0.12712688708289258\n",
      "PCC:  0.6867034327149864\n",
      "Jensen-Shannon Distance:  0.27423371063752394\n",
      "Val\n"
     ]
    },
    {
     "data": {
      "application/json": {
       "ascii": false,
       "bar_format": null,
       "colour": null,
       "elapsed": 0.00471043586730957,
       "initial": 0,
       "n": 0,
       "ncols": null,
       "nrows": 65,
       "postfix": null,
       "prefix": "",
       "rate": null,
       "total": 17,
       "unit": "it",
       "unit_divisor": 1000,
       "unit_scale": false
      },
      "application/vnd.jupyter.widget-view+json": {
       "model_id": "b8a687ebe70a4552b9550e4883844820",
       "version_major": 2,
       "version_minor": 0
      },
      "text/plain": [
       "  0%|          | 0/17 [00:00<?, ?it/s]"
      ]
     },
     "metadata": {},
     "output_type": "display_data"
    },
    {
     "name": "stdout",
     "output_type": "stream",
     "text": [
      "MAE:  0.12648181392510183\n",
      "PCC:  0.6876599834470514\n",
      "Jensen-Shannon Distance:  0.26513463784552477\n"
     ]
    }
   ],
   "source": [
    "final_model.eval()\n",
    "pred_train_matrices = np.zeros(y_train.shape)\n",
    "pred_val_matrices = np.zeros(y_val.shape)\n",
    "with torch.no_grad():\n",
    "    for j, test_adj in enumerate(X_train):\n",
    "        pred = final_model(torch.from_numpy(test_adj))[0]\n",
    "        pred = torch.clamp(pred, min=0.0, max=1.0)\n",
    "        pred = pred.cpu()\n",
    "        pred_train_matrices[j] = pred\n",
    "\n",
    "    print(\"Train\")\n",
    "    evaluate(pred_train_matrices, y_train)\n",
    "\n",
    "    for j, test_adj in enumerate(X_val):\n",
    "        pred = final_model(torch.from_numpy(test_adj))[0]\n",
    "        pred = torch.clamp(pred, min=0.0, max=1.0)\n",
    "        pred = pred.cpu()\n",
    "        pred_val_matrices[j] = pred\n",
    "\n",
    "    print(\"Val\")\n",
    "    evaluate(pred_val_matrices, y_val)"
   ]
  },
  {
   "cell_type": "code",
   "execution_count": null,
   "metadata": {},
   "outputs": [
    {
     "data": {
      "application/json": {
       "ascii": false,
       "bar_format": null,
       "colour": null,
       "elapsed": 0.00440526008605957,
       "initial": 0,
       "n": 0,
       "ncols": null,
       "nrows": 65,
       "postfix": null,
       "prefix": "",
       "rate": null,
       "total": 112,
       "unit": "it",
       "unit_divisor": 1000,
       "unit_scale": false
      },
      "application/vnd.jupyter.widget-view+json": {
       "model_id": "7b5ad8be8e0c4f1aad6d63d6ccc31d83",
       "version_major": 2,
       "version_minor": 0
      },
      "text/plain": [
       "  0%|          | 0/112 [00:00<?, ?it/s]"
      ]
     },
     "metadata": {},
     "output_type": "display_data"
    }
   ],
   "source": [
    "output_pred_list = []\n",
    "final_model.eval()\n",
    "with torch.no_grad():\n",
    "    for i in tqdm(range(A_LR_test_matrix.shape[0])):\n",
    "        output_pred = final_model(torch.Tensor(A_LR_test_matrix[i]))[0]\n",
    "        output_pred = torch.clamp(output_pred, min=0.0, max=1.0)\n",
    "        output_pred = output_pred.cpu()\n",
    "        output_pred = MatrixVectorizer.vectorize(output_pred).tolist()\n",
    "        output_pred_list.append(output_pred)"
   ]
  },
  {
   "cell_type": "code",
   "execution_count": null,
   "metadata": {},
   "outputs": [],
   "source": [
    "output_pred_stack = np.stack(output_pred_list, axis=0)\n",
    "output_pred_1d = output_pred_stack.flatten()\n",
    "assert output_pred_1d.shape == (4007136, )"
   ]
  },
  {
   "cell_type": "code",
   "execution_count": null,
   "metadata": {},
   "outputs": [],
   "source": [
    "df = pd.DataFrame({\n",
    "    \"ID\": [i+1 for i in range(len(output_pred_1d))],\n",
    "    \"Predicted\": output_pred_1d.tolist()\n",
    "})\n",
    "\n",
    "df"
   ]
  },
  {
   "cell_type": "code",
   "execution_count": null,
   "metadata": {},
   "outputs": [],
   "source": [
    "df.to_csv(\"gsr_gat_residual_ne_drop_GAT_leakyrelu_fold0_90_10_split_normalized_gmm5_all_leaky_GSR_relu_clamp.csv\", index=False)"
   ]
  },
  {
   "cell_type": "code",
   "execution_count": null,
   "metadata": {},
   "outputs": [],
   "source": []
  }
 ],
 "metadata": {
  "kernelspec": {
   "display_name": "Python 3 (ipykernel)",
   "language": "python",
   "name": "python3"
  },
  "language_info": {
   "codemirror_mode": {
    "name": "ipython",
    "version": 3
   },
   "file_extension": ".py",
   "mimetype": "text/x-python",
   "name": "python",
   "nbconvert_exporter": "python",
   "pygments_lexer": "ipython3",
   "version": "3.10.12"
  }
 },
 "nbformat": 4,
 "nbformat_minor": 4
}
