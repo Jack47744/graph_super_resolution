{
 "cells": [
  {
   "cell_type": "code",
   "execution_count": 1,
   "metadata": {},
   "outputs": [],
   "source": [
    "import os\n",
    "\n",
    "os.environ[\"PYTORCH_ENABLE_MPS_FALLBACK\"] = \"1\"\n",
    "\n",
    "import pandas as pd\n",
    "import torch\n",
    "import random\n",
    "from sklearn.decomposition import PCA\n",
    "from sklearn.mixture import GaussianMixture\n",
    "from sklearn.model_selection import train_test_split, KFold\n",
    "import numpy as np\n",
    "import torch.optim as optim\n",
    "from pprint import pprint\n",
    "from tqdm import tqdm\n",
    "\n",
    "from MatrixVectorizer import MatrixVectorizer\n",
    "from preprocessing import antivectorize_df\n",
    "from model import GSRNet, Discriminator\n",
    "from train import train_gan, test_gan\n",
    "from utils import track_memory, get_device, compute_degree_matrix_normalization_batch_numpy, get_parser, evaluate, plot_metrics_fold, LR_size, HR_size"
   ]
  },
  {
   "cell_type": "code",
   "execution_count": 2,
   "metadata": {},
   "outputs": [
    {
     "name": "stdout",
     "output_type": "stream",
     "text": [
      "mps\n"
     ]
    }
   ],
   "source": [
    "random_seed = 42\n",
    "random.seed(random_seed)\n",
    "np.random.seed(random_seed)\n",
    "torch.manual_seed(random_seed)\n",
    "\n",
    "# Check for CUDA (GPU support) and set device accordingly\n",
    "if torch.cuda.is_available():\n",
    "    device = torch.device(\"cuda\")\n",
    "    print(\"CUDA is available. Using GPU.\")\n",
    "    torch.cuda.manual_seed(random_seed)\n",
    "    torch.cuda.manual_seed_all(random_seed)  # For multi-GPU setups\n",
    "    # Additional settings for ensuring reproducibility on CUDA\n",
    "    torch.backends.cudnn.deterministic = True\n",
    "    torch.backends.cudnn.benchmark = False\n",
    "elif torch.backends.mps.is_available():\n",
    "    device = torch.device(\"mps\")\n",
    "else:\n",
    "    device = torch.device(\"cpu\")\n",
    "print(device)"
   ]
  },
  {
   "cell_type": "markdown",
   "metadata": {},
   "source": [
    "# Import Data"
   ]
  },
  {
   "cell_type": "code",
   "execution_count": 3,
   "metadata": {},
   "outputs": [],
   "source": [
    "# A_LR_train = pd.read_csv(\"../data/lr_train.csv\")\n",
    "# A_HR_train = pd.read_csv(\"../data/hr_train.csv\")\n",
    "# A_LR_test = pd.read_csv(\"../data/lr_test.csv\")\n",
    "\n",
    "# np.save('A_LR_train_matrix.npy', antivectorize_df(A_LR_train, LR_size))\n",
    "# np.save('A_HR_train_matrix.npy', antivectorize_df(A_HR_train, HR_size))\n",
    "# np.save('A_LR_test_matrix.npy', antivectorize_df(A_LR_test, LR_size))"
   ]
  },
  {
   "cell_type": "code",
   "execution_count": 4,
   "metadata": {},
   "outputs": [
    {
     "name": "stdout",
     "output_type": "stream",
     "text": [
      "(167, 160, 160)\n",
      "(167, 268, 268)\n",
      "(112, 160, 160)\n"
     ]
    }
   ],
   "source": [
    "A_LR_train_matrix = np.load('A_LR_train_matrix.npy')\n",
    "A_HR_train_matrix = np.load('A_HR_train_matrix.npy')\n",
    "A_LR_test_matrix = np.load(\"A_LR_test_matrix.npy\")\n",
    "\n",
    "print(A_LR_train_matrix.shape)\n",
    "print(A_HR_train_matrix.shape)\n",
    "print(A_LR_test_matrix.shape)"
   ]
  },
  {
   "cell_type": "markdown",
   "metadata": {},
   "source": [
    "# Parameters"
   ]
  },
  {
   "cell_type": "code",
   "execution_count": 5,
   "metadata": {},
   "outputs": [
    {
     "name": "stdout",
     "output_type": "stream",
     "text": [
      "{'dropout_rate': 0.2,\n",
      " 'early_stop_patient': 5,\n",
      " 'embedding_size': 32,\n",
      " 'epochs': 2,\n",
      " 'hidden_dim': 268,\n",
      " 'hr_dim': 268,\n",
      " 'ks': [0.9, 0.7, 0.6, 0.5],\n",
      " 'lmbda': 24,\n",
      " 'lr': 0.00010436239086997339,\n",
      " 'lr_dim': 160,\n",
      " 'mean_dense': 0.0,\n",
      " 'mean_gaussian': 0.0,\n",
      " 'padding': 26,\n",
      " 'splits': 3,\n",
      " 'std_dense': 0.01,\n",
      " 'std_gaussian': 0.1}\n"
     ]
    }
   ],
   "source": [
    "parser = get_parser()\n",
    "# Create an empty Namespace to hold the default arguments\n",
    "args = parser.parse_args([])\n",
    "pprint(args.__dict__)"
   ]
  },
  {
   "cell_type": "code",
   "execution_count": 6,
   "metadata": {},
   "outputs": [
    {
     "name": "stdout",
     "output_type": "stream",
     "text": [
      "(167, 160, 160)\n",
      "(167, 268, 268)\n"
     ]
    }
   ],
   "source": [
    "# SIMULATING THE DATA: EDIT TO ENTER YOUR OWN DATA\n",
    "X = A_LR_train_matrix  # np.random.normal(0, 0.5, (167, 160, 160))\n",
    "Y = A_HR_train_matrix  # np.random.normal(0, 0.5, (167, 288, 288))\n",
    "print(X.shape)\n",
    "print(Y.shape)"
   ]
  },
  {
   "cell_type": "code",
   "execution_count": 7,
   "metadata": {},
   "outputs": [
    {
     "name": "stdout",
     "output_type": "stream",
     "text": [
      "(167, 160, 160)\n"
     ]
    }
   ],
   "source": [
    "X = compute_degree_matrix_normalization_batch_numpy(X)\n",
    "A_LR_test_matrix = compute_degree_matrix_normalization_batch_numpy(A_LR_test_matrix)\n",
    "print(X.shape)"
   ]
  },
  {
   "cell_type": "markdown",
   "metadata": {},
   "source": [
    "# K-Fold Cross Validation"
   ]
  },
  {
   "cell_type": "code",
   "execution_count": 8,
   "metadata": {},
   "outputs": [
    {
     "name": "stdout",
     "output_type": "stream",
     "text": [
      "----- Fold 1 -----\n",
      "Current memory usage: 704.59 MB\n",
      "inside train_gan\n",
      "Creating mask for upper triangular matrix...\n",
      "Training GAN\n"
     ]
    },
    {
     "data": {
      "application/vnd.jupyter.widget-view+json": {
       "model_id": "db59d44fd8e14386add4434276e88548",
       "version_major": 2,
       "version_minor": 0
      },
      "text/plain": [
       "Epoch Progress:   0%|          | 0/2 [00:00<?, ?epoch/s]"
      ]
     },
     "metadata": {},
     "output_type": "display_data"
    },
    {
     "name": "stdout",
     "output_type": "stream",
     "text": [
      "Epoch 1/2\n"
     ]
    },
    {
     "name": "stderr",
     "output_type": "stream",
     "text": [
      "/Users/carlosbrat/Library/Mobile Documents/com~apple~CloudDocs/Imperial/Term2/Deep Graph-based Learning/CW2/graph_super_resolution/gsr_net/layers.py:27: UserWarning: The operator 'aten::_linalg_eigh.eigenvalues' is not currently supported on the MPS backend and will fall back to run on the CPU. This may have performance implications. (Triggered internally at /Users/runner/work/pytorch/pytorch/pytorch/aten/src/ATen/mps/MPSFallback.mm:13.)\n",
      "  eig_val_lr, U_lr = torch.linalg.eigh(lr, UPLO=\"U\")\n"
     ]
    },
    {
     "name": "stdout",
     "output_type": "stream",
     "text": [
      "Epoch 2/2\n",
      "Val Error: 0.198821\n",
      "Current memory usage: 1014.55 MB\n",
      "Train MAE: 0.204650, Val MAE: 0.198821\n",
      "----- Fold 2 -----\n",
      "Current memory usage: 1142.12 MB\n",
      "inside train_gan\n",
      "Creating mask for upper triangular matrix...\n",
      "Training GAN\n"
     ]
    },
    {
     "data": {
      "application/vnd.jupyter.widget-view+json": {
       "model_id": "65061d47e97a4f4483a7109ff21f30b0",
       "version_major": 2,
       "version_minor": 0
      },
      "text/plain": [
       "Epoch Progress:   0%|          | 0/2 [00:00<?, ?epoch/s]"
      ]
     },
     "metadata": {},
     "output_type": "display_data"
    },
    {
     "name": "stdout",
     "output_type": "stream",
     "text": [
      "Epoch 1/2\n",
      "Epoch 2/2\n",
      "Val Error: 0.201981\n",
      "Current memory usage: 1150.83 MB\n",
      "Train MAE: 0.196046, Val MAE: 0.201981\n",
      "----- Fold 3 -----\n",
      "Current memory usage: 1276.11 MB\n",
      "inside train_gan\n",
      "Creating mask for upper triangular matrix...\n",
      "Training GAN\n"
     ]
    },
    {
     "data": {
      "application/vnd.jupyter.widget-view+json": {
       "model_id": "98fca5a1a89c472facbfa8d42b7ad242",
       "version_major": 2,
       "version_minor": 0
      },
      "text/plain": [
       "Epoch Progress:   0%|          | 0/2 [00:00<?, ?epoch/s]"
      ]
     },
     "metadata": {},
     "output_type": "display_data"
    },
    {
     "name": "stdout",
     "output_type": "stream",
     "text": [
      "Epoch 1/2\n",
      "Epoch 2/2\n",
      "Val Error: 0.202423\n",
      "Current memory usage: 1285.12 MB\n",
      "Train MAE: 0.201569, Val MAE: 0.202423\n"
     ]
    }
   ],
   "source": [
    "cv = KFold(n_splits=args.splits, random_state=random_seed, shuffle=True)\n",
    "\n",
    "best_model_fold_list = []\n",
    "data_fold_list = []\n",
    "i = 1\n",
    "for train_index, test_index in cv.split(X):\n",
    "\n",
    "    print(f\"----- Fold {i} -----\")\n",
    "\n",
    "    subjects_adj, test_adj, subjects_ground_truth, test_ground_truth = (\n",
    "        X[train_index],\n",
    "        X[test_index],\n",
    "        Y[train_index],\n",
    "        Y[test_index],\n",
    "    )\n",
    "    data_fold_list.append(\n",
    "        (subjects_adj, test_adj, subjects_ground_truth, test_ground_truth)\n",
    "    )\n",
    "\n",
    "    netG = GSRNet(args).to(device)\n",
    "    optimizerG = optim.Adam(netG.parameters(), lr=args.lr)\n",
    "\n",
    "    netD = Discriminator(args).to(device)\n",
    "    optimizerD = optim.Adam(netD.parameters(), lr=args.lr)\n",
    "\n",
    "    track_memory()\n",
    "    # GAN model\n",
    "    return_model = train_gan(\n",
    "        netG,\n",
    "        optimizerG,\n",
    "        netD,\n",
    "        optimizerD,\n",
    "        subjects_adj,\n",
    "        subjects_ground_truth,\n",
    "        args,\n",
    "        test_adj=test_adj,\n",
    "        test_ground_truth=test_ground_truth,\n",
    "    )\n",
    "    track_memory()\n",
    "\n",
    "    test_mae = test_gan(return_model, test_adj, test_ground_truth, args)\n",
    "    train_mae = test_gan(return_model, subjects_adj, subjects_ground_truth, args)\n",
    "    print(f\"Train MAE: {train_mae:.6f}, Val MAE: {test_mae:.6f}\")\n",
    "    best_model_fold_list.append(return_model)\n",
    "\n",
    "    i += 1"
   ]
  },
  {
   "cell_type": "code",
   "execution_count": 9,
   "metadata": {},
   "outputs": [
    {
     "name": "stderr",
     "output_type": "stream",
     "text": [
      "100%|██████████| 56/56 [00:00<00:00, 125.44it/s]\n"
     ]
    },
    {
     "name": "stdout",
     "output_type": "stream",
     "text": [
      "MAE:  0.19885008523788628\n",
      "PCC:  0.2560424411703547\n",
      "Jensen-Shannon Distance:  0.37746090953726175\n"
     ]
    },
    {
     "name": "stderr",
     "output_type": "stream",
     "text": [
      "100%|██████████| 56/56 [00:00<00:00, 130.58it/s]\n"
     ]
    },
    {
     "name": "stdout",
     "output_type": "stream",
     "text": [
      "MAE:  0.20198078931243243\n",
      "PCC:  0.24581271853863546\n",
      "Jensen-Shannon Distance:  0.37846189248964673\n"
     ]
    },
    {
     "name": "stderr",
     "output_type": "stream",
     "text": [
      "100%|██████████| 55/55 [00:00<00:00, 132.88it/s]\n"
     ]
    },
    {
     "name": "stdout",
     "output_type": "stream",
     "text": [
      "MAE:  0.20242332975105568\n",
      "PCC:  0.24488552479943115\n",
      "Jensen-Shannon Distance:  0.37754427058160117\n"
     ]
    },
    {
     "data": {
      "text/html": [
       "<div>\n",
       "<style scoped>\n",
       "    .dataframe tbody tr th:only-of-type {\n",
       "        vertical-align: middle;\n",
       "    }\n",
       "\n",
       "    .dataframe tbody tr th {\n",
       "        vertical-align: top;\n",
       "    }\n",
       "\n",
       "    .dataframe thead th {\n",
       "        text-align: right;\n",
       "    }\n",
       "</style>\n",
       "<table border=\"1\" class=\"dataframe\">\n",
       "  <thead>\n",
       "    <tr style=\"text-align: right;\">\n",
       "      <th></th>\n",
       "      <th>MAE</th>\n",
       "      <th>PCC</th>\n",
       "      <th>JSD</th>\n",
       "    </tr>\n",
       "  </thead>\n",
       "  <tbody>\n",
       "    <tr>\n",
       "      <th>0</th>\n",
       "      <td>0.198850</td>\n",
       "      <td>0.256042</td>\n",
       "      <td>0.377461</td>\n",
       "    </tr>\n",
       "    <tr>\n",
       "      <th>1</th>\n",
       "      <td>0.201981</td>\n",
       "      <td>0.245813</td>\n",
       "      <td>0.378462</td>\n",
       "    </tr>\n",
       "    <tr>\n",
       "      <th>2</th>\n",
       "      <td>0.202423</td>\n",
       "      <td>0.244886</td>\n",
       "      <td>0.377544</td>\n",
       "    </tr>\n",
       "  </tbody>\n",
       "</table>\n",
       "</div>"
      ],
      "text/plain": [
       "        MAE       PCC       JSD\n",
       "0  0.198850  0.256042  0.377461\n",
       "1  0.201981  0.245813  0.378462\n",
       "2  0.202423  0.244886  0.377544"
      ]
     },
     "execution_count": 9,
     "metadata": {},
     "output_type": "execute_result"
    }
   ],
   "source": [
    "CAL_GRAPH = False\n",
    "\n",
    "res_list = []\n",
    "\n",
    "for i in range(args.splits):\n",
    "    _, test_adjs, _, gt_matrices = data_fold_list[i]\n",
    "    model = best_model_fold_list[i]\n",
    "    model.eval()\n",
    "    pred_matrices = np.zeros(gt_matrices.shape)\n",
    "    with torch.no_grad():\n",
    "        for j, test_adj in enumerate(test_adjs):\n",
    "            pred = model(torch.from_numpy(test_adj))[0]\n",
    "            pred = torch.clamp(pred, min=0.0, max=1.0)\n",
    "            pred = pred.cpu()\n",
    "            pred_matrices[j] = pred\n",
    "    res_list.append(evaluate(pred_matrices, gt_matrices, cal_graph=CAL_GRAPH))\n",
    "\n",
    "pd.DataFrame(res_list)"
   ]
  },
  {
   "cell_type": "code",
   "execution_count": 10,
   "metadata": {},
   "outputs": [
    {
     "data": {
      "image/png": "[encoded data removed]",
      "text/plain": [
       "<Figure size 1200x1000 with 4 Axes>"
      ]
     },
     "metadata": {},
     "output_type": "display_data"
    }
   ],
   "source": [
    "plot_metrics_fold(res_list)"
   ]
  },
  {
   "cell_type": "code",
   "execution_count": 11,
   "metadata": {},
   "outputs": [
    {
     "name": "stderr",
     "output_type": "stream",
     "text": [
      "100%|██████████| 56/56 [00:09<00:00,  5.96it/s]\n",
      "100%|██████████| 56/56 [00:09<00:00,  5.92it/s]\n",
      "100%|██████████| 55/55 [00:09<00:00,  6.01it/s]\n"
     ]
    }
   ],
   "source": [
    "for i in range(args.splits):\n",
    "    _, test_adjs, _, gt_matrices = data_fold_list[i]\n",
    "    model = best_model_fold_list[i]\n",
    "    model.eval()\n",
    "\n",
    "    output_pred_list = []\n",
    "    with torch.no_grad():\n",
    "        for test_adj in tqdm(test_adjs):\n",
    "            output_pred = model(torch.from_numpy(test_adj))[0].cpu()\n",
    "            output_pred = MatrixVectorizer.vectorize(output_pred).tolist()\n",
    "            output_pred_list.append(output_pred)\n",
    "\n",
    "    output_pred_stack = np.stack(output_pred_list, axis=0)\n",
    "    output_pred_1d = output_pred_stack.flatten()\n",
    "\n",
    "    df = pd.DataFrame(\n",
    "        {\n",
    "            \"ID\": [i + 1 for i in range(len(output_pred_1d))],\n",
    "            \"Predicted\": output_pred_1d.tolist(),\n",
    "        }\n",
    "    )\n",
    "\n",
    "    df.to_csv(\"predictions_fold_\" + str(i + 1) + \".csv\", index=False)"
   ]
  },
  {
   "cell_type": "markdown",
   "metadata": {},
   "source": [
    "# Final Model"
   ]
  },
  {
   "cell_type": "code",
   "execution_count": 12,
   "metadata": {},
   "outputs": [
    {
     "name": "stdout",
     "output_type": "stream",
     "text": [
      "HR Train PCA shape: (167, 161)\n"
     ]
    }
   ],
   "source": [
    "A_HR_train = pd.read_csv(\"../data/hr_train.csv\")\n",
    "\n",
    "pca = PCA(n_components=0.99, whiten=False)\n",
    "A_HR_train_pca = pca.fit_transform(A_HR_train)\n",
    "print(f\"HR Train PCA shape: {A_HR_train_pca.shape}\")\n",
    "\n",
    "gm = GaussianMixture(n_components=5, random_state=random_seed)\n",
    "A_HR_train_label = gm.fit_predict(A_HR_train_pca)\n",
    "unique, counts = np.unique(A_HR_train_label, return_counts=True)\n",
    "print(np.asarray((unique, counts)).T)\n",
    "\n",
    "X = np.load(\"A_LR_train_matrix.npy\")\n",
    "y = np.load(\"A_HR_train_matrix.npy\")\n",
    "\n",
    "X = compute_degree_matrix_normalization_batch_numpy(X)\n",
    "\n",
    "n_sample = X.shape[0]\n",
    "X_train, X_val, y_train, y_val = train_test_split(\n",
    "    X.reshape(n_sample, -1),\n",
    "    y.reshape(n_sample, -1),\n",
    "    test_size=0.10,\n",
    "    random_state=random_seed,\n",
    "    stratify=A_HR_train_label,\n",
    ")\n",
    "\n",
    "X_train = X_train.reshape(-1, LR_size, LR_size)\n",
    "X_val = X_val.reshape(-1, LR_size, LR_size)\n",
    "y_train = y_train.reshape(-1, HR_size, HR_size)\n",
    "y_val = y_val.reshape(-1, HR_size, HR_size)\n",
    "\n",
    "print(\"Train size:\", len(X_train))\n",
    "print(\"Val size:\", len(X_val))\n",
    "\n",
    "netG = GSRNet(args).to(device)\n",
    "print(\"here\")\n",
    "optimizerG = optim.Adam(netG.parameters(), lr=args.lr)\n",
    "\n",
    "print(\"here\")\n",
    "netD = Discriminator(args).to(device)\n",
    "optimizerD = optim.Adam(netD.parameters(), lr=args.lr)\n",
    "print(\"here\")\n",
    "\n",
    "track_memory()\n",
    "# GAN model\n",
    "final_model = train_gan(\n",
    "    netG,\n",
    "    optimizerG,\n",
    "    netD,\n",
    "    optimizerD,\n",
    "    X_train,\n",
    "    y_train,\n",
    "    args,\n",
    "    test_adj=X_val,\n",
    "    test_ground_truth=y_val,\n",
    ")\n",
    "track_memory()"
   ]
  },
  {
   "cell_type": "code",
   "execution_count": null,
   "metadata": {},
   "outputs": [],
   "source": [
    "pprint(args.__dict__)"
   ]
  },
  {
   "cell_type": "code",
   "execution_count": null,
   "metadata": {},
   "outputs": [],
   "source": [
    "final_model.eval()\n",
    "pred_train_matrices = np.zeros(y_train.shape)\n",
    "pred_val_matrices = np.zeros(y_val.shape)\n",
    "with torch.no_grad():\n",
    "    for j, test_adj in enumerate(X_train):\n",
    "        pred = final_model(torch.from_numpy(test_adj))[0]\n",
    "        pred = torch.clamp(pred, min=0.0, max=1.0)\n",
    "        pred = pred.cpu()\n",
    "        pred_train_matrices[j] = pred\n",
    "\n",
    "    print(\"Train\")\n",
    "    evaluate(pred_train_matrices, y_train)\n",
    "\n",
    "    for j, test_adj in enumerate(X_val):\n",
    "        pred = final_model(torch.from_numpy(test_adj))[0]\n",
    "        pred = torch.clamp(pred, min=0.0, max=1.0)\n",
    "        pred = pred.cpu()\n",
    "        pred_val_matrices[j] = pred\n",
    "\n",
    "    print(\"Val\")\n",
    "    evaluate(pred_val_matrices, y_val)"
   ]
  },
  {
   "cell_type": "code",
   "execution_count": null,
   "metadata": {},
   "outputs": [],
   "source": [
    "output_pred_list = []\n",
    "final_model.eval()\n",
    "with torch.no_grad():\n",
    "    for i in tqdm(range(A_LR_test_matrix.shape[0])):\n",
    "        output_pred = final_model(torch.Tensor(A_LR_test_matrix[i]))[0]\n",
    "        output_pred = torch.clamp(output_pred, min=0.0, max=1.0)\n",
    "        output_pred = output_pred.cpu()\n",
    "        output_pred = MatrixVectorizer.vectorize(output_pred).tolist()\n",
    "        output_pred_list.append(output_pred)"
   ]
  },
  {
   "cell_type": "code",
   "execution_count": null,
   "metadata": {},
   "outputs": [],
   "source": [
    "output_pred_stack = np.stack(output_pred_list, axis=0)\n",
    "output_pred_1d = output_pred_stack.flatten()\n",
    "assert output_pred_1d.shape == (4007136,)"
   ]
  },
  {
   "cell_type": "code",
   "execution_count": null,
   "metadata": {},
   "outputs": [],
   "source": [
    "df = pd.DataFrame(\n",
    "    {\n",
    "        \"ID\": [i + 1 for i in range(len(output_pred_1d))],\n",
    "        \"Predicted\": output_pred_1d.tolist(),\n",
    "    }\n",
    ")\n",
    "\n",
    "df"
   ]
  },
  {
   "cell_type": "code",
   "execution_count": null,
   "metadata": {},
   "outputs": [],
   "source": [
    "df.to_csv(\"final_model.csv\", index=False)"
   ]
  }
 ],
 "metadata": {
  "kernelspec": {
   "display_name": "Python 3 (ipykernel)",
   "language": "python",
   "name": "python3"
  },
  "language_info": {
   "codemirror_mode": {
    "name": "ipython",
    "version": 3
   },
   "file_extension": ".py",
   "mimetype": "text/x-python",
   "name": "python",
   "nbconvert_exporter": "python",
   "pygments_lexer": "ipython3",
   "version": "3.11.7"
  }
 },
 "nbformat": 4,
 "nbformat_minor": 4
}
