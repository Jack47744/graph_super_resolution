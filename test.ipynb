{
 "cells": [
  {
   "cell_type": "code",
   "execution_count": 4,
   "id": "61ebeaef-ad75-41f7-b5b3-99e11bd36cde",
   "metadata": {},
   "outputs": [],
   "source": [
    "import pandas as pd\n",
    "import numpy as np\n",
    "import matplotlib.pyplot as plt\n",
    "import torch\n",
    "from sklearn.model_selection import KFold\n",
    "from MatrixVectorizer import MatrixVectorizer\n",
    "from layers import *"
   ]
  },
  {
   "cell_type": "code",
   "execution_count": 5,
   "id": "bb556158",
   "metadata": {},
   "outputs": [
    {
     "data": {
      "text/plain": [
       "GCNLayer()"
      ]
     },
     "execution_count": 5,
     "metadata": {},
     "output_type": "execute_result"
    }
   ],
   "source": [
    "class AEGraph(nn.Module):\n",
    "    "
   ]
  },
  {
   "cell_type": "code",
   "execution_count": 3,
   "id": "f5d78bbb-8747-490e-a251-d9ac4da45e49",
   "metadata": {},
   "outputs": [],
   "source": [
    "hr_train = pd.read_csv(\"data/hr_train.csv\")\n",
    "lr_train = pd.read_csv(\"data/lr_train.csv\")"
   ]
  },
  {
   "cell_type": "code",
   "execution_count": 9,
   "id": "6f37a37b-3f81-4e17-b7da-49ac1f3ab071",
   "metadata": {},
   "outputs": [
    {
     "name": "stdout",
     "output_type": "stream",
     "text": [
      "(111, 35778)\n",
      "(56, 35778)\n",
      "(111, 35778)\n",
      "(56, 35778)\n",
      "(112, 35778)\n",
      "(55, 35778)\n"
     ]
    }
   ],
   "source": [
    "kf = KFold(n_splits=3, shuffle=True, random_state=42)\n",
    "\n",
    "for fold, (train_index, test_index) in enumerate(kf.split(lr_train)):\n",
    "    hr_train_kf = hr_train.loc[train_index]\n",
    "    hr_val_kf = hr_train.loc[test_index]\n",
    "    lr_train_kf = lr_train.loc[train_index]\n",
    "    lr_val_kf = lr_train.loc[test_index]\n",
    "    \n",
    "    "
   ]
  },
  {
   "cell_type": "code",
   "execution_count": 15,
   "id": "ea7facd7-506f-4e48-aa13-c3b6c62f25ff",
   "metadata": {},
   "outputs": [],
   "source": [
    "i = 0\n",
    "\n",
    "lr_vector = lr_train.loc[i, :]\n",
    "hr_vector = hr_train.loc[i, :]\n",
    "\n",
    "# Now, we use the function for LR and HR data with the right flags\n",
    "lr_matrix = MatrixVectorizer.anti_vectorize(lr_vector, 160, include_diagonal=False)  \n",
    "hr_matrix = MatrixVectorizer.anti_vectorize(hr_vector, 268, include_diagonal=False) "
   ]
  },
  {
   "cell_type": "code",
   "execution_count": 18,
   "id": "9ab1f41a-019a-4f64-9106-3041cf9e71a0",
   "metadata": {},
   "outputs": [
    {
     "data": {
      "text/plain": [
       "array([[0.        , 0.88278832, 0.8030893 , ..., 0.18634262, 0.15573594,\n",
       "        0.11347285],\n",
       "       [0.88278832, 0.        , 0.87945686, ..., 0.10331979, 0.08342555,\n",
       "        0.04862044],\n",
       "       [0.8030893 , 0.87945686, 0.        , ..., 0.07631023, 0.07541273,\n",
       "        0.0501033 ],\n",
       "       ...,\n",
       "       [0.18634262, 0.10331979, 0.07631023, ..., 0.        , 0.73771265,\n",
       "        0.54772662],\n",
       "       [0.15573594, 0.08342555, 0.07541273, ..., 0.73771265, 0.        ,\n",
       "        0.82070578],\n",
       "       [0.11347285, 0.04862044, 0.0501033 , ..., 0.54772662, 0.82070578,\n",
       "        0.        ]])"
      ]
     },
     "execution_count": 18,
     "metadata": {},
     "output_type": "execute_result"
    }
   ],
   "source": [
    "hr_matrix"
   ]
  },
  {
   "cell_type": "code",
   "execution_count": null,
   "id": "b916d09b-d358-45a6-9799-5f227dbe1796",
   "metadata": {},
   "outputs": [],
   "source": []
  }
 ],
 "metadata": {
  "kernelspec": {
   "display_name": "Python 3 (ipykernel)",
   "language": "python",
   "name": "python3"
  },
  "language_info": {
   "codemirror_mode": {
    "name": "ipython",
    "version": 3
   },
   "file_extension": ".py",
   "mimetype": "text/x-python",
   "name": "python",
   "nbconvert_exporter": "python",
   "pygments_lexer": "ipython3",
   "version": "3.10.13"
  }
 },
 "nbformat": 4,
 "nbformat_minor": 5
}
